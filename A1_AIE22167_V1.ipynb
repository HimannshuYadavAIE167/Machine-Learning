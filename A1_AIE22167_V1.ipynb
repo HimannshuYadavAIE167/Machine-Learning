{
  "cells": [
    {
      "cell_type": "code",
      "execution_count": 5,
      "metadata": {
        "colab": {
          "base_uri": "https://localhost:8080/"
        },
        "id": "NtrMFzzaNZZr",
        "outputId": "260e0867-2998-4d2f-b7dd-7e7352f06945"
      },
      "outputs": [
        {
          "name": "stdout",
          "output_type": "stream",
          "text": [
            "total no of pairs whose sum is 10: 2\n"
          ]
        }
      ],
      "source": [
        "# program to count pair of elements with sum equal to 10\n",
        "def Count_pairs(input_list):\n",
        "  target_sum=10\n",
        "  pairs_count=0\n",
        "  for i in range(len(input_list)):\n",
        "        for j in range(i + 1, len(input_list)):\n",
        "            if input_list[i] + input_list[j] == target_sum:\n",
        "                pairs_count += 1\n",
        "  return pairs_count # returns the total number of pairs with sum = 10\n",
        "test_list=[2,7,4,1,3,6] # Input\n",
        "total_pairs = Count_pairs(test_list)\n",
        "print(f\"total no of pairs whose sum is 10: {total_pairs}\")"
      ]
    },
    {
      "cell_type": "code",
      "execution_count": 6,
      "metadata": {
        "colab": {
          "base_uri": "https://localhost:8080/"
        },
        "id": "fWPBMpc3UhDo",
        "outputId": "8fadd07a-1c75-4134-8e8c-0ee5a0f85bbc"
      },
      "outputs": [
        {
          "name": "stdout",
          "output_type": "stream",
          "text": [
            "range of tthe list is: 8\n"
          ]
        }
      ],
      "source": [
        "# program to return the range of list having real number\n",
        "def list_range(input_list):\n",
        "  if len(input_list) < 3: #to check the whether a list is having more than 3 element\n",
        "        return \"Range determination not possible\"\n",
        "\n",
        "  range_of_list = max(input_list) - min(input_list)\n",
        "  return range_of_list\n",
        "\n",
        "test_list=[5,3,8,1,0,4]\n",
        "range_of_list = list_range(test_list)\n",
        "print(f\"range of tthe list is: {range_of_list}\")\n"
      ]
    },
    {
      "cell_type": "code",
      "execution_count": 7,
      "metadata": {
        "id": "xY5O-rC1FK_-"
      },
      "outputs": [
        {
          "name": "stdout",
          "output_type": "stream",
          "text": [
            "Matrix A^3:\n",
            "[[116, 153], [204, 269]]\n"
          ]
        }
      ],
      "source": [
        "# program to calculate the  A^m of the matrix A\n",
        "def calculate_matrix_power(matrix, m):\n",
        "    result_matrix = [row[:] for row in matrix]  # Create a copy of the original matrix\n",
        "    for _ in range(m - 1):\n",
        "        # Create a temporary matrix to store the intermediate results\n",
        "        temp_matrix = []\n",
        "        for i in range(len(matrix)):\n",
        "            temp_row = []\n",
        "            for j in range(len(matrix[0])):\n",
        "                temp_value = 0\n",
        "                for k in range(len(matrix)):\n",
        "                    temp_value += result_matrix[i][k] * matrix[k][j]\n",
        "                temp_row.append(temp_value)\n",
        "            temp_matrix.append(temp_row)\n",
        "        result_matrix = temp_matrix  # Update result_matrix with the temporary matrix\n",
        "    return result_matrix\n",
        "\n",
        "input_matrix = [[2, 3], [4, 5]]\n",
        "m = 3\n",
        "result_matrix = calculate_matrix_power(input_matrix, m)\n",
        "print(f\"Matrix A^{m}:\\n{result_matrix}\")\n",
        "\n"
      ]
    },
    {
      "cell_type": "code",
      "execution_count": 8,
      "metadata": {
        "colab": {
          "base_uri": "https://localhost:8080/"
        },
        "id": "M0D60MvBMSFm",
        "outputId": "49e976bc-cb95-4e40-b31c-b4655f4fa42a"
      },
      "outputs": [
        {
          "name": "stdout",
          "output_type": "stream",
          "text": [
            "The character 'p' occurs the most, 3 times.\n"
          ]
        }
      ],
      "source": [
        "# program to count the highest occurringcharacter & its occurrence count\n",
        "def max_occurrence_character(input_string):\n",
        "    char_count = {}\n",
        "    max_char, max_count = \"\", 0\n",
        "\n",
        "    for char in input_string:\n",
        "       if char in char_count:\n",
        "                char_count[char] += 1\n",
        "       else:\n",
        "            char_count[char] = 1\n",
        "\n",
        "       if char_count[char] > max_count:\n",
        "                max_char, max_count = char, char_count[char]\n",
        "\n",
        "    return max_char, max_count\n",
        "\n",
        "input_str = \"hippopotamus\"\n",
        "result_char, result_count = max_occurrence_character(input_str)\n",
        "print(f\"The character '{result_char}' occurs the most, {result_count} times.\")\n"
      ]
    }
  ],
  "metadata": {
    "colab": {
      "provenance": []
    },
    "kernelspec": {
      "display_name": "Python 3",
      "name": "python3"
    },
    "language_info": {
      "codemirror_mode": {
        "name": "ipython",
        "version": 3
      },
      "file_extension": ".py",
      "mimetype": "text/x-python",
      "name": "python",
      "nbconvert_exporter": "python",
      "pygments_lexer": "ipython3",
      "version": "3.10.11"
    }
  },
  "nbformat": 4,
  "nbformat_minor": 0
}
