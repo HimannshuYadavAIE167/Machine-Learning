{
 "cells": [
  {
   "cell_type": "code",
   "execution_count": 6,
   "metadata": {},
   "outputs": [
    {
     "name": "stdout",
     "output_type": "stream",
     "text": [
      "Root node feature index: 1\n"
     ]
    }
   ],
   "source": [
    "import numpy as np\n",
    "import pandas as pd\n",
    "from sklearn.preprocessing import LabelEncoder\n",
    "\n",
    "def entropy(target):\n",
    "    counts = np.bincount(target)\n",
    "    probs = counts[np.nonzero(counts)] / len(target)\n",
    "    return -np.sum(probs * np.log2(probs))\n",
    "\n",
    "def information_gain(features, target, feature_idx):\n",
    "    total_entropy = entropy(target)\n",
    "    values, counts = np.unique(features[:, feature_idx], return_counts=True)\n",
    "    weighted_entropy = np.sum([(counts[i] / len(target)) * entropy(target[features[:, feature_idx] == values[i]]) for i in range(len(values))])\n",
    "    return total_entropy - weighted_entropy\n",
    "\n",
    "def find_root_feature(features, target):\n",
    "    gains = [information_gain(features, target, i) for i in range(features.shape[1])]\n",
    "    return np.argmax(gains)\n",
    "\n",
    "def handle_null_values(df, feature):\n",
    "    df[feature].fillna(df[feature].mean(), inplace=True)\n",
    "\n",
    "def handle_categorical_nulls(df, feature):\n",
    "    most_frequent_val = df[feature].mode()[0]\n",
    "    df[feature].fillna(most_frequent_val, inplace=True)\n",
    "\n",
    "def encode_labels(df, feature):\n",
    "    encoder = LabelEncoder()\n",
    "    df[feature] = encoder.fit_transform(df[feature])\n",
    "\n",
    "df = pd.read_csv(\"weatherAUS.csv\")\n",
    "\n",
    "# Handling null values in features\n",
    "handle_null_values(df, 'Pressure9am')\n",
    "handle_null_values(df, 'Humidity9am')\n",
    "handle_categorical_nulls(df, 'RainToday')\n",
    "\n",
    "# Encoding categorical features\n",
    "encode_labels(df, 'RainToday')\n",
    "\n",
    "target = df['RainToday'].to_numpy()\n",
    "features = df[['Pressure9am', 'Humidity9am']].to_numpy()\n",
    "\n",
    "root_feature_idx = find_root_feature(features, target)\n",
    "print(\"Root node feature index:\", root_feature_idx)\n"
   ]
  }
 ],
 "metadata": {
  "kernelspec": {
   "display_name": "Python 3",
   "language": "python",
   "name": "python3"
  },
  "language_info": {
   "codemirror_mode": {
    "name": "ipython",
    "version": 3
   },
   "file_extension": ".py",
   "mimetype": "text/x-python",
   "name": "python",
   "nbconvert_exporter": "python",
   "pygments_lexer": "ipython3",
   "version": "3.10.11"
  }
 },
 "nbformat": 4,
 "nbformat_minor": 2
}
