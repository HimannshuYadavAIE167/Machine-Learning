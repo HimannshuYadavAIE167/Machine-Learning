{
 "cells": [
  {
   "cell_type": "code",
   "execution_count": 1,
   "metadata": {},
   "outputs": [
    {
     "name": "stdout",
     "output_type": "stream",
     "text": [
      "Ecludian distance is : 2.8284271247461903\n",
      "Manhatann distance is : 4\n"
     ]
    }
   ],
   "source": [
    "# program to calculate the Ecludian and Manhatann distances from vector input\n",
    "from math import sqrt, pow # import sqrt and pow function to perform the necessary computation\n",
    "\n",
    "def calculate_Ecludian_distance(vector_1, vector_2): #function to calculate Ecludian distance\n",
    "    resultant = []  \n",
    "    distance = 0\n",
    "    for i in range(len(vector_1)):\n",
    "        resultant.append(pow((vector_1[i] - vector_2[i]), 2))\n",
    "    for j in range(len(resultant)):\n",
    "        distance += resultant[j]     \n",
    "    return sqrt(distance)\n",
    "def calculate_manhatann_distance(vector_1, vector_2): # function to calculate  Manhatann distances\n",
    "    resultant = []\n",
    "    distance = 0\n",
    "    for i in range(len(vector_1)):\n",
    "        resultant.append((vector_1[i] - vector_2[i]))\n",
    "    for j in range(len(resultant)):\n",
    "        distance += abs(resultant[j]) # taking the absolute value and adding them     \n",
    "    return distance\n",
    "vector1 = [3, 4]\n",
    "vector2 = [5, 6]\n",
    "distance = calculate_Ecludian_distance(vector1, vector2)\n",
    "distance1 = calculate_manhatann_distance(vector1, vector2)\n",
    "print(f'Ecludian distance is : {distance}')\n",
    "print(f'Manhatann distance is : {distance1}')\n"
   ]
  },
  {
   "cell_type": "code",
   "execution_count": 5,
   "metadata": {},
   "outputs": [
    {
     "name": "stdout",
     "output_type": "stream",
     "text": [
      "[3] [8] bad   5\n",
      "[4] [6] good   2\n",
      "[5] [2] good   3\n",
      "[8] [4] bad   4\n",
      "[7] [1] bad   6\n",
      "{2: 'good', 3: 'good', 4: 'bad', 5: 'bad', 6: 'bad'}\n",
      "nearest neighbor of k= 3\n",
      "2 good\n",
      "3 good\n",
      "4 bad\n"
     ]
    }
   ],
   "source": [
    "# program to demonstrate K-NN classifier\n",
    "from math import sqrt\n",
    "\n",
    "def calculate_Ecluidian_distance(vector_1, vector_2):\n",
    "    resultant = []\n",
    "    distance = 0\n",
    "    for i in range(len(vector_1)):\n",
    "        resultant.append(pow((vector_1[i] - vector_2[i]), 2))\n",
    "    for j in range(len(resultant)):\n",
    "        distance += resultant[j]\n",
    "    return sqrt(distance)\n",
    "\n",
    "def Manhattan(vector1, vector2):\n",
    "    distance = 0\n",
    "    for i in range(0, len(vector2)):\n",
    "        distance += abs(vector2[i] - vector1[i])\n",
    "    return distance\n",
    "\n",
    "X = [[3], [4], [5], [8], [7]]\n",
    "Y = [[8], [6], [2], [4], [1]]\n",
    "Target = ['bad', 'good', 'good', 'bad', 'bad']\n",
    "Values = []\n",
    "Distance = {}\n",
    "for i in range(len(Target)):\n",
    "    Values.append(Manhattan(X[i], Y[i]))\n",
    "    Distance[Values[i]] = Target[i]\n",
    "    print(X[i], Y[i], Target[i], \" \", Values[i])\n",
    "\n",
    "K = int(input(\"enter the K values:\"))\n",
    "keyvalues = list(Distance.keys())\n",
    "keyvalues.sort()\n",
    "sortedDistance = {i: Distance[i] for i in keyvalues}\n",
    "print(sortedDistance)\n",
    "print(f\"Nearest Neighbor of k= {K}\")\n",
    "for i in range(0, K):\n",
    "    temp = keyvalues[i]\n",
    "    print(temp, sortedDistance[temp])\n"
   ]
  },
  {
   "cell_type": "code",
   "execution_count": 3,
   "metadata": {},
   "outputs": [
    {
     "name": "stdout",
     "output_type": "stream",
     "text": [
      "[['underweight', 0], ['Normal', 1], ['Overweight', 2]]\n"
     ]
    }
   ],
   "source": [
    "def Encode_label(Weight):\n",
    "    Encoded_label = []\n",
    "    x = 0\n",
    "    for i in range(len(Weight)):\n",
    "        temp = []\n",
    "        if Weight[i] not in [label[0] for label in Encoded_label]:\n",
    "            temp.append(Weight[i])\n",
    "            temp.append(x)\n",
    "            Encoded_label.append(temp)\n",
    "            x += 1\n",
    "    return Encoded_label\n",
    "\n",
    "Weight = ['underweight', 'Normal', 'Overweight','Normal']\n",
    "Encoded_label = Encode_label(Weight)\n",
    "print(Encoded_label)\n"
   ]
  },
  {
   "cell_type": "code",
   "execution_count": 5,
   "metadata": {},
   "outputs": [
    {
     "name": "stdout",
     "output_type": "stream",
     "text": [
      "One-hot encoded data:\n",
      "[1, 0, 0]\n",
      "[0, 1, 0]\n",
      "[0, 0, 1]\n",
      "[0, 1, 0]\n"
     ]
    }
   ],
   "source": [
    "# program to convert categorical variable to one-hot encoding\n",
    "def one_hot_encoding(data, encoded_labels):\n",
    "    one_hot_encoded_data = []\n",
    "\n",
    "    for category in data:\n",
    "        one_hot_encoding = [0] * len(encoded_labels)\n",
    "        for label in encoded_labels:\n",
    "            if category == label[0]:\n",
    "                one_hot_encoding[label[1]] = 1\n",
    "        one_hot_encoded_data.append(one_hot_encoding)\n",
    "\n",
    "    return one_hot_encoded_data\n",
    "categorical_data = ['underweight', 'Normal', 'Overweight', 'Normal']\n",
    "one_hot_encoded_data = one_hot_encoding(categorical_data, Encoded_label)\n",
    "print(\"One-hot encoded data:\")\n",
    "for item in one_hot_encoded_data:\n",
    "    print(item)"
   ]
  }
 ],
 "metadata": {
  "kernelspec": {
   "display_name": "Python 3",
   "language": "python",
   "name": "python3"
  },
  "language_info": {
   "codemirror_mode": {
    "name": "ipython",
    "version": 3
   },
   "file_extension": ".py",
   "mimetype": "text/x-python",
   "name": "python",
   "nbconvert_exporter": "python",
   "pygments_lexer": "ipython3",
   "version": "3.10.11"
  }
 },
 "nbformat": 4,
 "nbformat_minor": 2
}
